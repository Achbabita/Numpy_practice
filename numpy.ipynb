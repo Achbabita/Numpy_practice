{
 "cells": [
  {
   "cell_type": "code",
   "execution_count": null,
   "id": "2881958d",
   "metadata": {},
   "outputs": [],
   "source": [
    "#NumpY Practice Questions:\n",
    "# •  Replace each element (except the first and last) with the average of its neighbors.\n",
    "import numpy as np\n",
    "array=np.array([10,12,23,24,3,31,14,47,50])\n",
    "result=array.copy()\n",
    "# Replace elements from index 1 to index n-2\n",
    "result[1:-1]=(array[2:]+array[:-2])/2\n",
    "print(\"Original array:\", array)\n",
    "print(\"Modified array:\", result)\n"
   ]
  },
  {
   "cell_type": "code",
   "execution_count": null,
   "id": "dc9b85d5",
   "metadata": {},
   "outputs": [],
   "source": [
    "#  Identify the indices where an element is greater than both its immediate neighbors.\n",
    "import numpy as np\n",
    "arr=np.array([10,33,14,76,50])\n",
    "# Find indices where element is greater than both its neighbors\n",
    "indices = np.where((arr[1:-1] > arr[:-2]) & (arr[1:-1] > arr[2:]))[0] + 1\n",
    "\n",
    "print(\"Original array:\", arr)\n",
    "print(\"Indices where element is greater than both neighbors:\", indices)\n",
    "print(\"Values at those indices:\", arr[indices])"
   ]
  },
  {
   "cell_type": "code",
   "execution_count": null,
   "id": "8da8e91b",
   "metadata": {},
   "outputs": [],
   "source": [
    "\n",
    "#   Remove all duplicate elements from a 1D array without using built-in unique functions.\n",
    "import numpy as np\n",
    "arr=np.array([10,12,14,10,12])\n",
    "result=[]\n",
    "\n",
    "for i in range(len(arr)):\n",
    "    duplicate=False\n",
    "    for j in range(len(result)):\n",
    "        if arr[i] == result[j]:\n",
    "            duplicate=True\n",
    "            break\n",
    "    if not duplicate:\n",
    "        result.append(arr[i])\n",
    "final=np.array(result)\n",
    "print(\"Original array:\", arr)\n",
    "print(\"Array without duplicates:\", final)"
   ]
  },
  {
   "cell_type": "code",
   "execution_count": null,
   "id": "8b176f90",
   "metadata": {},
   "outputs": [],
   "source": [
    "\"\"\"Inside a function dup:do this all:\n",
    "1.Initialize an empty set seen.\n",
    "\n",
    "2.Initialize an empty list result.\n",
    "\n",
    "3.For each element item in the input array arr:\n",
    "             for item in arr:\n",
    "\n",
    "\n",
    "                    4.If item is not in seen:\n",
    "\n",
    "                    Add item to seen.\n",
    "\n",
    "                    Append item to result.\n",
    "\n",
    "                    Convert the result list to a NumPy array and return it.\"\"\"\n",
    "\n",
    "import numpy as np\n",
    "ar=np.array([1,2,3,6,3,4,5,6])\n",
    "\n",
    "def remove_duplicate(arr):\n",
    "    seen=set()\n",
    "    ar1=[]\n",
    "    for i in ar:\n",
    "        if i not in seen:\n",
    "            seen.add(i)\n",
    "            ar1.append(i)\n",
    "    return np.array(ar1)\n",
    "n_ar=remove_duplicate(ar)\n",
    "print(\"original\",ar)\n",
    "print(\"Array without dup\",n_ar)\n"
   ]
  },
  {
   "cell_type": "code",
   "execution_count": null,
   "id": "17217dfa",
   "metadata": {},
   "outputs": [],
   "source": [
    "#  Find the most frequently occurring value in a 1D array.\n",
    "arr=np.array([1,2,1,3,1,7,8,9,9,7,9,8,9])\n",
    "# Find the most frequent value\n",
    "most_frequent = np.bincount(arr).argmax()\n",
    "print(most_frequent)\n"
   ]
  },
  {
   "cell_type": "code",
   "execution_count": null,
   "id": "ea2d3bdb",
   "metadata": {},
   "outputs": [],
   "source": [
    "#or\n",
    "arr=np.array([1,2,1,3,1,7,8,9,9,7,9,8,9])\n",
    "def most_freq_value(arr):\n",
    "    unique_arr=[]\n",
    "    count=[]\n",
    "\n",
    "    for num in arr:\n",
    "        if num in unique_arr:\n",
    "            index=unique_arr.index(num)\n",
    "            count[index]+=1\n",
    "        else:\n",
    "            unique_arr.append(num)\n",
    "            count.append(1)\n",
    "\n",
    "    max_index = 0\n",
    "    max_count = count[0]\n",
    "    for i in range(1, len(count)):\n",
    "        if count[i] > max_count:\n",
    "            max_count = count[i]\n",
    "            max_index = i\n",
    "\n",
    "    return unique_arr[max_index]\n",
    "\n",
    "result = most_freq_value(arr)\n",
    "print(\"Most frequently occurring value is:\", result)"
   ]
  },
  {
   "cell_type": "code",
   "execution_count": 1,
   "id": "9e0c07d8",
   "metadata": {},
   "outputs": [
    {
     "name": "stdout",
     "output_type": "stream",
     "text": [
      "Pairs with sum 6 : [(1, 5), (-1, 7)]\n"
     ]
    }
   ],
   "source": [
    "#  Determine all unique pairs of values that sum up to a given target.\n",
    "import numpy as np\n",
    "\n",
    "arr = np.array([1, 4, 5, -1, 7, -2])\n",
    "target = 6\n",
    "\n",
    "def find_pairs(arr, target):\n",
    "    pairs = []\n",
    "    seen = set()  # To avoid duplicate pairs\n",
    "    for i in range(len(arr)):\n",
    "        for j in range(i + 1, len(arr)):\n",
    "            if arr[i] + arr[j] == target:\n",
    "                pair = (int(arr[i]), int(arr[j]))\n",
    "                # Sort the pair so (a,b) and (b,a) are treated the same\n",
    "                pair_sorted = tuple(sorted(pair))\n",
    "                if pair_sorted not in seen:\n",
    "                    seen.add(pair_sorted)\n",
    "                    pairs.append(pair_sorted)\n",
    "    return pairs\n",
    "\n",
    "result = find_pairs(arr, target)\n",
    "print(\"Pairs with sum\", target, \":\", result)\n"
   ]
  }
 ],
 "metadata": {
  "kernelspec": {
   "display_name": "pbasics",
   "language": "python",
   "name": "python3"
  },
  "language_info": {
   "codemirror_mode": {
    "name": "ipython",
    "version": 3
   },
   "file_extension": ".py",
   "mimetype": "text/x-python",
   "name": "python",
   "nbconvert_exporter": "python",
   "pygments_lexer": "ipython3",
   "version": "3.13.2"
  }
 },
 "nbformat": 4,
 "nbformat_minor": 5
}
